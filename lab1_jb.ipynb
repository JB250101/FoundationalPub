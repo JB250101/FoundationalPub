{
 "cells": [
  {
   "cell_type": "markdown",
   "metadata": {},
   "source": [
    "#Lab1\n",
    "\n",
    "##Introduction\n",
    "\n",
    "###Part1\n",
    "\n",
    "I think tht *this* is a **correct**.\n",
    "\n",
    "this is a <sub>1</sub> text\n",
    "\n",
    "[Click Me](https://www.google.com/)\n",
    "\n",
    "This is the list\n",
    "* apple\n",
    "** banana\n",
    "\n",
    "1. firdt\n",
    "2. second\n",
    "\n",
    "this is a table:\n",
    "| head 1 | head 2 |\n",
    "|--------|--------|\n",
    "| row 1  | row 2  |\n",
    "\n"
   ]
  },
  {
   "cell_type": "markdown",
   "metadata": {},
   "source": []
  }
 ],
 "metadata": {
  "kernelspec": {
   "display_name": "Python 3",
   "language": "python",
   "name": "python3"
  },
  "language_info": {
   "codemirror_mode": {
    "name": "ipython",
    "version": 3
   },
   "file_extension": ".py",
   "mimetype": "text/x-python",
   "name": "python",
   "nbconvert_exporter": "python",
   "pygments_lexer": "ipython3",
   "version": "3.11.9"
  }
 },
 "nbformat": 4,
 "nbformat_minor": 2
}
